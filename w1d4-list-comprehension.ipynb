{
 "cells": [
  {
   "cell_type": "code",
   "execution_count": 1,
   "metadata": {},
   "outputs": [],
   "source": [
    "staff = [\"Amanda\", \"Juan\", \"Felipe\", \"Marc\", \"Clara\", \"Blanca\", \"Ovi\", \"Fran\", \"Bego\", \"Noelia\"]"
   ]
  },
  {
   "cell_type": "code",
   "execution_count": 2,
   "metadata": {},
   "outputs": [
    {
     "data": {
      "text/plain": [
       "['😷️Amanda',\n",
       " '😷️Juan',\n",
       " '😷️Felipe',\n",
       " '😷️Marc',\n",
       " '😷️Clara',\n",
       " '😷️Blanca',\n",
       " '😷️Ovi',\n",
       " '😷️Fran',\n",
       " '😷️Bego',\n",
       " '😷️Noelia']"
      ]
     },
     "execution_count": 2,
     "metadata": {},
     "output_type": "execute_result"
    }
   ],
   "source": [
    "campus_ready = []\n",
    "for person in staff:\n",
    "    campus_ready.append(\"😷️\"+person)\n",
    "campus_ready"
   ]
  },
  {
   "cell_type": "code",
   "execution_count": 3,
   "metadata": {},
   "outputs": [],
   "source": [
    "campus_staff = [\"😷️\"+person for person in staff]"
   ]
  },
  {
   "cell_type": "code",
   "execution_count": 4,
   "metadata": {},
   "outputs": [
    {
     "data": {
      "text/plain": [
       "['😷️Amanda',\n",
       " '😷️Juan',\n",
       " '😷️Felipe',\n",
       " '😷️Marc',\n",
       " '😷️Clara',\n",
       " '😷️Blanca',\n",
       " '😷️Ovi',\n",
       " '😷️Fran',\n",
       " '😷️Bego',\n",
       " '😷️Noelia']"
      ]
     },
     "execution_count": 4,
     "metadata": {},
     "output_type": "execute_result"
    }
   ],
   "source": [
    "campus_staff"
   ]
  },
  {
   "cell_type": "code",
   "execution_count": 5,
   "metadata": {},
   "outputs": [],
   "source": [
    "campus_vaccine = [i[1:]+\"💉️\" for i in campus_staff]"
   ]
  },
  {
   "cell_type": "code",
   "execution_count": 6,
   "metadata": {},
   "outputs": [
    {
     "data": {
      "text/plain": [
       "['️Amanda💉️',\n",
       " '️Juan💉️',\n",
       " '️Felipe💉️',\n",
       " '️Marc💉️',\n",
       " '️Clara💉️',\n",
       " '️Blanca💉️',\n",
       " '️Ovi💉️',\n",
       " '️Fran💉️',\n",
       " '️Bego💉️',\n",
       " '️Noelia💉️']"
      ]
     },
     "execution_count": 6,
     "metadata": {},
     "output_type": "execute_result"
    }
   ],
   "source": [
    "campus_vaccine"
   ]
  },
  {
   "cell_type": "markdown",
   "metadata": {},
   "source": [
    "\\[ ELEMENTO for BUCLE \\]"
   ]
  },
  {
   "cell_type": "code",
   "execution_count": 7,
   "metadata": {},
   "outputs": [
    {
     "data": {
      "text/plain": [
       "['😷️amanda',\n",
       " '😷️juan',\n",
       " '😷️felipe',\n",
       " '😷️marc',\n",
       " '😷️clara',\n",
       " '😷️blanca',\n",
       " '😷️ovi',\n",
       " '😷️fran',\n",
       " '😷️bego',\n",
       " '😷️noelia']"
      ]
     },
     "execution_count": 7,
     "metadata": {},
     "output_type": "execute_result"
    }
   ],
   "source": [
    "[i.lower() for i in campus_staff]"
   ]
  },
  {
   "cell_type": "code",
   "execution_count": 8,
   "metadata": {},
   "outputs": [
    {
     "data": {
      "text/plain": [
       "[0, 1, 2, 3, 4, 5, 6, 7, 8, 9]"
      ]
     },
     "execution_count": 8,
     "metadata": {},
     "output_type": "execute_result"
    }
   ],
   "source": [
    "[i for i in range(10)]"
   ]
  },
  {
   "cell_type": "code",
   "execution_count": 9,
   "metadata": {},
   "outputs": [],
   "source": [
    "def vacuna(per):\n",
    "    if \"a\" in per:\n",
    "        return per[1:]+\"💉️\"\n",
    "    return per"
   ]
  },
  {
   "cell_type": "code",
   "execution_count": 15,
   "metadata": {},
   "outputs": [
    {
     "data": {
      "text/plain": [
       "['️Amanda💉️',\n",
       " '️Juan💉️',\n",
       " '😷️Felipe',\n",
       " '️Marc💉️',\n",
       " '️Clara💉️',\n",
       " '️Blanca💉️',\n",
       " '😷️Ovi',\n",
       " '️Fran💉️',\n",
       " '😷️Bego',\n",
       " '️Noelia💉️']"
      ]
     },
     "execution_count": 15,
     "metadata": {},
     "output_type": "execute_result"
    }
   ],
   "source": [
    "post_vaccine = [vacuna(personita) for personita in campus_staff]\n",
    "post_vaccine"
   ]
  },
  {
   "cell_type": "markdown",
   "metadata": {},
   "source": [
    "## filtering"
   ]
  },
  {
   "cell_type": "code",
   "execution_count": 24,
   "metadata": {},
   "outputs": [
    {
     "data": {
      "text/plain": [
       "['️Amanda💉️',\n",
       " '️Juan💉️',\n",
       " '️Marc💉️',\n",
       " '️Clara💉️',\n",
       " '️Blanca💉️',\n",
       " '️Fran💉️',\n",
       " '️Noelia💉️']"
      ]
     },
     "execution_count": 24,
     "metadata": {},
     "output_type": "execute_result"
    }
   ],
   "source": [
    "[ta for ta in post_vaccine if \"💉️\" in ta]"
   ]
  },
  {
   "cell_type": "markdown",
   "metadata": {},
   "source": [
    "## conditional"
   ]
  },
  {
   "cell_type": "code",
   "execution_count": 32,
   "metadata": {},
   "outputs": [
    {
     "data": {
      "text/plain": [
       "[0, 2, 4, 6, 16, 10, 36, 14, 64, 18, 100]"
      ]
     },
     "execution_count": 32,
     "metadata": {},
     "output_type": "execute_result"
    }
   ],
   "source": [
    "[i**2 if i%2==0 else i*2 for i in range(11)]"
   ]
  },
  {
   "cell_type": "code",
   "execution_count": 27,
   "metadata": {},
   "outputs": [
    {
     "data": {
      "text/plain": [
       "['️Amanda💉️',\n",
       " '️Juan💉️',\n",
       " '**********',\n",
       " '️Marc💉️',\n",
       " '️Clara💉️',\n",
       " '️Blanca💉️',\n",
       " '**********',\n",
       " '️Fran💉️',\n",
       " '**********',\n",
       " '️Noelia💉️']"
      ]
     },
     "execution_count": 27,
     "metadata": {},
     "output_type": "execute_result"
    }
   ],
   "source": [
    "[ta if \"💉️\" in ta else \"**********\" for ta in post_vaccine]"
   ]
  },
  {
   "cell_type": "code",
   "execution_count": 36,
   "metadata": {},
   "outputs": [
    {
     "data": {
      "text/plain": [
       "['🏖️️Amanda💉️',\n",
       " '🏖️️Juan💉️',\n",
       " '😷️Felipe🏠️',\n",
       " '🏖️️Marc💉️',\n",
       " '🏖️️Clara💉️',\n",
       " '🏖️️Blanca💉️',\n",
       " '😷️Ovi🏠️',\n",
       " '🏖️️Fran💉️',\n",
       " '😷️Bego🏠️',\n",
       " '🏖️️Noelia💉️']"
      ]
     },
     "execution_count": 36,
     "metadata": {},
     "output_type": "execute_result"
    }
   ],
   "source": [
    "vacation_staff = [\"🏖️\"+ta if \"💉️\" in ta else ta+\"🏠️\" for ta in post_vaccine]\n",
    "vacation_staff"
   ]
  },
  {
   "cell_type": "code",
   "execution_count": 44,
   "metadata": {},
   "outputs": [],
   "source": [
    "def par_o_5(num):\n",
    "    if num%2 == 0:\n",
    "        return True\n",
    "    elif num%5==0:\n",
    "        return True\n",
    "    else:\n",
    "        return False"
   ]
  },
  {
   "cell_type": "code",
   "execution_count": 49,
   "metadata": {},
   "outputs": [
    {
     "data": {
      "text/plain": [
       "[0, '***', 2, '***', 4, 5, 6, '***', 8, '***', 10, '***', 12, '***', 14, 15]"
      ]
     },
     "execution_count": 49,
     "metadata": {},
     "output_type": "execute_result"
    }
   ],
   "source": [
    "[i if par_o_5(i) else \"***\" for i in range(16)]"
   ]
  },
  {
   "cell_type": "markdown",
   "metadata": {},
   "source": [
    "## nested list comprehensions"
   ]
  },
  {
   "cell_type": "code",
   "execution_count": 53,
   "metadata": {},
   "outputs": [
    {
     "data": {
      "text/plain": [
       "['🏖️️Amanda💉️',\n",
       " '🏖️️Juan💉️',\n",
       " '😷️Felipe🏠️',\n",
       " '🏖️️Marc💉️',\n",
       " '🏖️️Clara💉️',\n",
       " '🏖️️Blanca💉️',\n",
       " '😷️Ovi🏠️',\n",
       " '🏖️️Fran💉️',\n",
       " '😷️Bego🏠️',\n",
       " '🏖️️Noelia💉️']"
      ]
     },
     "execution_count": 53,
     "metadata": {},
     "output_type": "execute_result"
    }
   ],
   "source": [
    "[ \"🏖️\"+ta if \"💉️\" in ta else ta+\"🏠️\" for ta in [vacuna(personita) for personita in campus_staff] ]"
   ]
  },
  {
   "cell_type": "code",
   "execution_count": 73,
   "metadata": {},
   "outputs": [
    {
     "data": {
      "text/plain": [
       "['Amanda', 'Juan', 'Marc', 'Clara', 'Blanca', 'Fran', 'Noelia']"
      ]
     },
     "execution_count": 73,
     "metadata": {},
     "output_type": "execute_result"
    }
   ],
   "source": [
    "playa = [\"\".join([i for i in ta if i.isalpha()]) for ta in vacation_staff if \"🏖️️\" in ta]\n",
    "playa"
   ]
  },
  {
   "cell_type": "code",
   "execution_count": 71,
   "metadata": {},
   "outputs": [],
   "source": [
    "amanda = ['A', 'm', 'a', 'n', 'd', 'a']\n",
    "sep=\"¡!\""
   ]
  },
  {
   "cell_type": "code",
   "execution_count": 72,
   "metadata": {},
   "outputs": [
    {
     "data": {
      "text/plain": [
       "'A¡!m¡!a¡!n¡!d¡!a'"
      ]
     },
     "execution_count": 72,
     "metadata": {},
     "output_type": "execute_result"
    }
   ],
   "source": [
    "sep.join(amanda)"
   ]
  },
  {
   "cell_type": "markdown",
   "metadata": {},
   "source": [
    "## flatten"
   ]
  },
  {
   "cell_type": "code",
   "execution_count": 74,
   "metadata": {},
   "outputs": [],
   "source": [
    "lst = [[1,2,3],[4,5,6],[7,8,9]]"
   ]
  },
  {
   "cell_type": "code",
   "execution_count": 75,
   "metadata": {},
   "outputs": [],
   "source": [
    "# [1,2,3,4,5,6,7,8,9]"
   ]
  },
  {
   "cell_type": "code",
   "execution_count": 78,
   "metadata": {},
   "outputs": [
    {
     "data": {
      "text/plain": [
       "[1, 2, 3, 4, 5, 6, 7, 8, 9]"
      ]
     },
     "execution_count": 78,
     "metadata": {},
     "output_type": "execute_result"
    }
   ],
   "source": [
    "flatted = []\n",
    "for sublist in lst:\n",
    "    for i in sublist:\n",
    "        flatted.append(i)\n",
    "flatted"
   ]
  },
  {
   "cell_type": "code",
   "execution_count": 86,
   "metadata": {},
   "outputs": [
    {
     "data": {
      "text/plain": [
       "[1, 2, 3, 4, 5, 6, 7, 8, 9]"
      ]
     },
     "execution_count": 86,
     "metadata": {},
     "output_type": "execute_result"
    }
   ],
   "source": [
    "[e for sub in lst for e in sub]"
   ]
  },
  {
   "cell_type": "code",
   "execution_count": 108,
   "metadata": {},
   "outputs": [],
   "source": [
    "lst = [     [       [1,2,3]   ,   (4,5)  ,   [7,8,9]      ]      ,       [[5,4,5,6,7],[6],{7,8,9}]        ]"
   ]
  },
  {
   "cell_type": "code",
   "execution_count": 109,
   "metadata": {},
   "outputs": [
    {
     "data": {
      "text/plain": [
       "[1, 2, 3, 4, 5, 7, 8, 9, 5, 4, 5, 6, 7, 6, 8, 9, 7]"
      ]
     },
     "execution_count": 109,
     "metadata": {},
     "output_type": "execute_result"
    }
   ],
   "source": [
    "flatted = []\n",
    "for e in lst:\n",
    "    for i in e:\n",
    "        for x in i:\n",
    "            flatted.append(x)\n",
    "flatted"
   ]
  },
  {
   "cell_type": "code",
   "execution_count": 110,
   "metadata": {},
   "outputs": [
    {
     "data": {
      "text/plain": [
       "[1, 2, 3, 4, 5, 7, 8, 9, 5, 4, 5, 6, 7, 6, 8, 9, 7]"
      ]
     },
     "execution_count": 110,
     "metadata": {},
     "output_type": "execute_result"
    }
   ],
   "source": [
    "[x for e in lst for i in e for x in i]"
   ]
  },
  {
   "cell_type": "markdown",
   "metadata": {},
   "source": [
    "![matryoshka](https://encrypted-tbn0.gstatic.com/images?q=tbn%3AANd9GcSRKy1aNspOFWWbP9YT2okRbRw7n1L9Y9Fp0w&usqp=CAU)"
   ]
  },
  {
   "cell_type": "code",
   "execution_count": 112,
   "metadata": {},
   "outputs": [
    {
     "data": {
      "text/plain": [
       "[1, 2, 3, 4, 5, 7, 8, 9, 5, 4, 5, 6, 7, 6, 8, 9, 7]"
      ]
     },
     "execution_count": 112,
     "metadata": {},
     "output_type": "execute_result"
    }
   ],
   "source": [
    "[num for list_2d in lst for lst_3d in list_2d for num in lst_3d]"
   ]
  },
  {
   "cell_type": "markdown",
   "metadata": {},
   "source": [
    "## List comprehension with dict"
   ]
  },
  {
   "cell_type": "code",
   "execution_count": 147,
   "metadata": {},
   "outputs": [],
   "source": [
    " hoteles = [\n",
    "     {\"name\":\"Meliá\", \"stars\":4, \"scores\":[5,4,8]},\n",
    "     {\"name\":\"nh\", \"stars\":4, \"scores\":[8,9,7,8]},\n",
    "     {\"name\":\"Hilton\", \"stars\":5, \"scores\":[8,7]},\n",
    "     {\"name\":\"Pension Lola\", \"stars\":1, \"scores\":[1,2,3,1,1,1,1,1,10]}\n",
    " ]"
   ]
  },
  {
   "cell_type": "code",
   "execution_count": 120,
   "metadata": {},
   "outputs": [],
   "source": [
    "def mean(arr):\n",
    "    return sum(arr)/len(arr)"
   ]
  },
  {
   "cell_type": "code",
   "execution_count": 121,
   "metadata": {},
   "outputs": [
    {
     "data": {
      "text/plain": [
       "3.5"
      ]
     },
     "execution_count": 121,
     "metadata": {},
     "output_type": "execute_result"
    }
   ],
   "source": [
    "mean([hotel[\"stars\"] for hotel in hoteles])"
   ]
  },
  {
   "cell_type": "code",
   "execution_count": 124,
   "metadata": {},
   "outputs": [
    {
     "data": {
      "text/plain": [
       "4.722222222222222"
      ]
     },
     "execution_count": 124,
     "metadata": {},
     "output_type": "execute_result"
    }
   ],
   "source": [
    "# Media de todas las notas\n",
    "mean([i for hotel in hoteles for i in hotel[\"scores\"]])"
   ]
  },
  {
   "cell_type": "code",
   "execution_count": 133,
   "metadata": {},
   "outputs": [
    {
     "data": {
      "text/plain": [
       "5.875"
      ]
     },
     "execution_count": 133,
     "metadata": {},
     "output_type": "execute_result"
    }
   ],
   "source": [
    "# Media de las medias\n",
    "mean([mean(hotel[\"scores\"]) for hotel in hoteles])"
   ]
  },
  {
   "cell_type": "code",
   "execution_count": 131,
   "metadata": {},
   "outputs": [
    {
     "data": {
      "text/plain": [
       "4.72222222222222"
      ]
     },
     "execution_count": 131,
     "metadata": {},
     "output_type": "execute_result"
    }
   ],
   "source": [
    "# Media de las medias considerando cantidad de elementos\n",
    "mean([i for e in [[mean(hotel[\"scores\"])]*len(hotel[\"scores\"]) for hotel in hoteles] for i in e])"
   ]
  },
  {
   "cell_type": "code",
   "execution_count": 138,
   "metadata": {},
   "outputs": [
    {
     "data": {
      "text/plain": [
       "[{'name': 'Meliá', 'stars': 4, 'scores': [5, 4, 8], 'mean': 5.666666666666667},\n",
       " {'name': 'nh', 'stars': 4, 'scores': [8, 9, 7, 8], 'mean': 8.0},\n",
       " {'name': 'Hilton', 'stars': 5, 'scores': [8, 7], 'mean': 7.5},\n",
       " {'name': 'Pension Lola',\n",
       "  'stars': 1,\n",
       "  'scores': [1, 2, 3, 1, 1, 1, 1, 1, 10],\n",
       "  'mean': 2.3333333333333335}]"
      ]
     },
     "execution_count": 138,
     "metadata": {},
     "output_type": "execute_result"
    }
   ],
   "source": [
    "for hotel in hoteles:\n",
    "    hotel.update({\"mean\": mean(hotel[\"scores\"])})\n",
    "hoteles"
   ]
  },
  {
   "cell_type": "code",
   "execution_count": 140,
   "metadata": {},
   "outputs": [
    {
     "data": {
      "text/plain": [
       "[{'name': 'Meliá', 'stars': 4, 'scores': [5, 4, 8], 'mean': 5.666666666666667},\n",
       " {'name': 'nh', 'stars': 4, 'scores': [8, 9, 7, 8], 'mean': 8.0},\n",
       " {'name': 'Hilton', 'stars': 5, 'scores': [8, 7], 'mean': 7.5},\n",
       " {'name': 'Pension Lola',\n",
       "  'stars': 1,\n",
       "  'scores': [1, 2, 3, 1, 1, 1, 1, 1, 10],\n",
       "  'mean': 2.3333333333333335}]"
      ]
     },
     "execution_count": 140,
     "metadata": {},
     "output_type": "execute_result"
    }
   ],
   "source": [
    "for hotel in hoteles:\n",
    "    hotel[\"mean\"] = mean(hotel[\"scores\"])\n",
    "hoteles"
   ]
  },
  {
   "cell_type": "code",
   "execution_count": 141,
   "metadata": {},
   "outputs": [
    {
     "data": {
      "text/plain": [
       "[None, None, None, None]"
      ]
     },
     "execution_count": 141,
     "metadata": {},
     "output_type": "execute_result"
    }
   ],
   "source": [
    "[hotel.update({\"mean\": mean(hotel[\"scores\"])}) for hotel in hoteles]"
   ]
  },
  {
   "cell_type": "code",
   "execution_count": 144,
   "metadata": {},
   "outputs": [
    {
     "name": "stdout",
     "output_type": "stream",
     "text": [
      "Hello\n",
      "None\n"
     ]
    }
   ],
   "source": [
    "a = print(\"Hello\")\n",
    "print(a)"
   ]
  },
  {
   "cell_type": "markdown",
   "metadata": {},
   "source": [
    "## \\* y \\** in lists and dicts"
   ]
  },
  {
   "cell_type": "code",
   "execution_count": null,
   "metadata": {},
   "outputs": [],
   "source": [
    "[dict(**hotel,mean=mean(hotel[\"scores\"])) for hotel in hoteles]"
   ]
  },
  {
   "cell_type": "code",
   "execution_count": 148,
   "metadata": {},
   "outputs": [
    {
     "data": {
      "text/plain": [
       "[{'name': 'Meliá', 'stars': 4, 'scores': [5, 4, 8], 'mean': 5.666666666666667},\n",
       " {'name': 'nh', 'stars': 4, 'scores': [8, 9, 7, 8], 'mean': 8.0},\n",
       " {'name': 'Hilton', 'stars': 5, 'scores': [8, 7], 'mean': 7.5},\n",
       " {'name': 'Pension Lola',\n",
       "  'stars': 1,\n",
       "  'scores': [1, 2, 3, 1, 1, 1, 1, 1, 10],\n",
       "  'mean': 2.3333333333333335}]"
      ]
     },
     "execution_count": 148,
     "metadata": {},
     "output_type": "execute_result"
    }
   ],
   "source": [
    "[{**hotel,\"mean\":mean(hotel[\"scores\"])} for hotel in hoteles]"
   ]
  },
  {
   "cell_type": "code",
   "execution_count": 152,
   "metadata": {},
   "outputs": [
    {
     "data": {
      "text/plain": [
       "[1, 2, 3, 4, 5]"
      ]
     },
     "execution_count": 152,
     "metadata": {},
     "output_type": "execute_result"
    }
   ],
   "source": [
    "a = [1,2,3]\n",
    "a.append(4)\n",
    "a.append(5)\n",
    "a"
   ]
  },
  {
   "cell_type": "code",
   "execution_count": 153,
   "metadata": {},
   "outputs": [],
   "source": [
    "a = [1,2,3]\n",
    "b = [*a,4,5]"
   ]
  },
  {
   "cell_type": "code",
   "execution_count": 154,
   "metadata": {},
   "outputs": [
    {
     "name": "stdout",
     "output_type": "stream",
     "text": [
      "[1, 2, 3]\n",
      "[1, 2, 3, 4, 5]\n"
     ]
    }
   ],
   "source": [
    "print(a)\n",
    "print(b)"
   ]
  },
  {
   "cell_type": "markdown",
   "metadata": {},
   "source": [
    "## Dict Comprehension"
   ]
  },
  {
   "cell_type": "code",
   "execution_count": 160,
   "metadata": {},
   "outputs": [],
   "source": [
    " hoteles = [\n",
    "     {\"name\":\"Meliá\", \"stars\":4, \"scores\":[5,4,8]},\n",
    "     {\"name\":\"nh\", \"stars\":4, \"scores\":[8,9,7,8]},\n",
    "     {\"name\":\"Hilton\", \"stars\":5, \"scores\":[8,7]},\n",
    "     {\"name\":\"Pension Lola\", \"stars\":1, \"scores\":[1,2,3,1,1,1,1,1,10]}\n",
    " ]"
   ]
  },
  {
   "cell_type": "code",
   "execution_count": 161,
   "metadata": {},
   "outputs": [
    {
     "data": {
      "text/plain": [
       "{'Meliá': 5.666666666666667,\n",
       " 'nh': 8.0,\n",
       " 'Hilton': 7.5,\n",
       " 'Pension Lola': 2.3333333333333335}"
      ]
     },
     "execution_count": 161,
     "metadata": {},
     "output_type": "execute_result"
    }
   ],
   "source": [
    "means = {}\n",
    "for hotel in hoteles:\n",
    "    means[hotel[\"name\"]]=mean(hotel[\"scores\"])\n",
    "means"
   ]
  },
  {
   "cell_type": "markdown",
   "metadata": {},
   "source": [
    "{ ELEMENT for BUCLE }"
   ]
  },
  {
   "cell_type": "code",
   "execution_count": 163,
   "metadata": {},
   "outputs": [
    {
     "data": {
      "text/plain": [
       "{'Meliá': 5.666666666666667,\n",
       " 'nh': 8.0,\n",
       " 'Hilton': 7.5,\n",
       " 'Pension Lola': 2.3333333333333335}"
      ]
     },
     "execution_count": 163,
     "metadata": {},
     "output_type": "execute_result"
    }
   ],
   "source": [
    "{hotel[\"name\"]:mean(hotel[\"scores\"]) for hotel in hoteles}"
   ]
  },
  {
   "cell_type": "code",
   "execution_count": 164,
   "metadata": {},
   "outputs": [
    {
     "data": {
      "text/plain": [
       "{'Meliá': 5.666666666666667, 'nh': 8.0, 'Hilton': 7.5}"
      ]
     },
     "execution_count": 164,
     "metadata": {},
     "output_type": "execute_result"
    }
   ],
   "source": [
    "{hotel[\"name\"]:mean(hotel[\"scores\"]) for hotel in hoteles if hotel[\"stars\"]>=4}"
   ]
  },
  {
   "cell_type": "code",
   "execution_count": 167,
   "metadata": {},
   "outputs": [
    {
     "data": {
      "text/plain": [
       "{0: 0, 1: 1, 2: 4, 3: 9, 4: 16, 5: 25, 6: 36, 7: 49, 8: 64, 9: 81, 10: 100}"
      ]
     },
     "execution_count": 167,
     "metadata": {},
     "output_type": "execute_result"
    }
   ],
   "source": [
    "{i:i**2 for i in range(11)}"
   ]
  },
  {
   "cell_type": "code",
   "execution_count": 168,
   "metadata": {},
   "outputs": [],
   "source": [
    "cars = {\"Seat Panda\":60,\n",
    "       \"BMW\":150,\n",
    "       \"Mercedes\":180,\n",
    "       \"Seat Ibiza\":100}"
   ]
  },
  {
   "cell_type": "code",
   "execution_count": 169,
   "metadata": {},
   "outputs": [
    {
     "data": {
      "text/plain": [
       "150"
      ]
     },
     "execution_count": 169,
     "metadata": {},
     "output_type": "execute_result"
    }
   ],
   "source": [
    "cars[\"BMW\"]"
   ]
  },
  {
   "cell_type": "code",
   "execution_count": 171,
   "metadata": {},
   "outputs": [
    {
     "data": {
      "text/plain": [
       "'BMW'"
      ]
     },
     "execution_count": 171,
     "metadata": {},
     "output_type": "execute_result"
    }
   ],
   "source": [
    "for k,v in cars.items():\n",
    "    if v == 150:\n",
    "        car = k\n",
    "car"
   ]
  },
  {
   "cell_type": "code",
   "execution_count": 176,
   "metadata": {},
   "outputs": [],
   "source": [
    "cars_hp = {v:k for k,v in cars.items()}"
   ]
  },
  {
   "cell_type": "code",
   "execution_count": 177,
   "metadata": {},
   "outputs": [
    {
     "data": {
      "text/plain": [
       "{60: 'Seat Panda', 150: 'BMW', 180: 'Mercedes', 100: 'Seat Ibiza'}"
      ]
     },
     "execution_count": 177,
     "metadata": {},
     "output_type": "execute_result"
    }
   ],
   "source": [
    "cars_hp "
   ]
  },
  {
   "cell_type": "code",
   "execution_count": 179,
   "metadata": {},
   "outputs": [
    {
     "data": {
      "text/plain": [
       "'BMW'"
      ]
     },
     "execution_count": 179,
     "metadata": {},
     "output_type": "execute_result"
    }
   ],
   "source": [
    "cars_hp[150]"
   ]
  },
  {
   "cell_type": "code",
   "execution_count": 180,
   "metadata": {},
   "outputs": [
    {
     "data": {
      "text/plain": [
       "'BMW'"
      ]
     },
     "execution_count": 180,
     "metadata": {},
     "output_type": "execute_result"
    }
   ],
   "source": [
    "{v:k for k,v in cars.items()}[150]"
   ]
  },
  {
   "cell_type": "code",
   "execution_count": 183,
   "metadata": {},
   "outputs": [
    {
     "data": {
      "text/plain": [
       "{'Seat Panda': 60,\n",
       " 'BMW': 150,\n",
       " 'Mercedes': 180,\n",
       " 'Seat Ibiza': 100,\n",
       " 'Honda': 150}"
      ]
     },
     "execution_count": 183,
     "metadata": {},
     "output_type": "execute_result"
    }
   ],
   "source": [
    "cars = {**cars, \"Honda\":150}\n",
    "cars"
   ]
  },
  {
   "cell_type": "code",
   "execution_count": 184,
   "metadata": {},
   "outputs": [
    {
     "data": {
      "text/plain": [
       "{60: 'Seat Panda', 150: 'Honda', 180: 'Mercedes', 100: 'Seat Ibiza'}"
      ]
     },
     "execution_count": 184,
     "metadata": {},
     "output_type": "execute_result"
    }
   ],
   "source": [
    "{v:k for k,v in cars.items()}"
   ]
  },
  {
   "cell_type": "code",
   "execution_count": null,
   "metadata": {},
   "outputs": [],
   "source": []
  },
  {
   "cell_type": "code",
   "execution_count": null,
   "metadata": {},
   "outputs": [],
   "source": []
  },
  {
   "cell_type": "code",
   "execution_count": null,
   "metadata": {},
   "outputs": [],
   "source": []
  },
  {
   "cell_type": "code",
   "execution_count": null,
   "metadata": {},
   "outputs": [],
   "source": []
  },
  {
   "cell_type": "code",
   "execution_count": null,
   "metadata": {},
   "outputs": [],
   "source": []
  },
  {
   "cell_type": "code",
   "execution_count": null,
   "metadata": {},
   "outputs": [],
   "source": []
  },
  {
   "cell_type": "code",
   "execution_count": null,
   "metadata": {},
   "outputs": [],
   "source": []
  }
 ],
 "metadata": {
  "kernelspec": {
   "display_name": "Python 3",
   "language": "python",
   "name": "python3"
  },
  "language_info": {
   "codemirror_mode": {
    "name": "ipython",
    "version": 3
   },
   "file_extension": ".py",
   "mimetype": "text/x-python",
   "name": "python",
   "nbconvert_exporter": "python",
   "pygments_lexer": "ipython3",
   "version": "3.8.2"
  }
 },
 "nbformat": 4,
 "nbformat_minor": 4
}
