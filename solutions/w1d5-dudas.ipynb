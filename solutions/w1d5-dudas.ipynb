{
 "cells": [
  {
   "cell_type": "code",
   "execution_count": null,
   "metadata": {},
   "outputs": [],
   "source": [
    "# try...except...finally"
   ]
  },
  {
   "cell_type": "code",
   "execution_count": 9,
   "metadata": {},
   "outputs": [
    {
     "name": "stdout",
     "output_type": "stream",
     "text": [
      "Todo corrio bien\n",
      "Error: division by zero\n",
      "Termina el programa\n"
     ]
    }
   ],
   "source": [
    "# try...except...else...finally\n",
    "try:\n",
    "    a = 7/5\n",
    "     \n",
    "    \n",
    "except Exception as e:\n",
    "    print(f\"Error: {e}\")\n",
    "else:\n",
    "    print(\"Todo corrio bien\")\n",
    "        \n",
    "    \n",
    "finally:\n",
    "    print(\"Termina el programa\")"
   ]
  },
  {
   "cell_type": "code",
   "execution_count": 15,
   "metadata": {},
   "outputs": [
    {
     "name": "stdout",
     "output_type": "stream",
     "text": [
      "No hubo divisibles por 5\n"
     ]
    }
   ],
   "source": [
    "a = [1,2,3,4,6,7,8,9]\n",
    "\n",
    "for i in a:\n",
    "    if i%5 == 0:\n",
    "        print(f\"{i} es divisible por 5\")\n",
    "        break\n",
    "else:\n",
    "    print(\"No hubo divisibles por 5\")"
   ]
  },
  {
   "cell_type": "code",
   "execution_count": 22,
   "metadata": {},
   "outputs": [],
   "source": [
    "nota = 10\n",
    "\n",
    "grade = {nota < 6 : \"l\",\n",
    "6 <= nota < 8 : \"m\",\n",
    "8 <= nota : \"h\"}"
   ]
  },
  {
   "cell_type": "code",
   "execution_count": 23,
   "metadata": {},
   "outputs": [
    {
     "data": {
      "text/plain": [
       "{False: 'm', True: 'h'}"
      ]
     },
     "execution_count": 23,
     "metadata": {},
     "output_type": "execute_result"
    }
   ],
   "source": [
    "grade"
   ]
  },
  {
   "cell_type": "code",
   "execution_count": 24,
   "metadata": {},
   "outputs": [
    {
     "data": {
      "text/plain": [
       "'h'"
      ]
     },
     "execution_count": 24,
     "metadata": {},
     "output_type": "execute_result"
    }
   ],
   "source": [
    "grade[True]"
   ]
  }
 ],
 "metadata": {
  "kernelspec": {
   "display_name": "Python 3",
   "language": "python",
   "name": "python3"
  },
  "language_info": {
   "codemirror_mode": {
    "name": "ipython",
    "version": 3
   },
   "file_extension": ".py",
   "mimetype": "text/x-python",
   "name": "python",
   "nbconvert_exporter": "python",
   "pygments_lexer": "ipython3",
   "version": "3.8.2"
  }
 },
 "nbformat": 4,
 "nbformat_minor": 4
}
