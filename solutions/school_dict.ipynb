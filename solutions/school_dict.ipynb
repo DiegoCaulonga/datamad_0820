{
 "cells": [
  {
   "cell_type": "code",
   "execution_count": 1,
   "metadata": {},
   "outputs": [],
   "source": [
    "schoolSystem = {\n",
    "  'schools': [{\n",
    "      'name': 'Fake School 1',\n",
    "      'classRooms': [{\n",
    "        'teacher': {\n",
    "          'firstName': 'Marcelino',\n",
    "          'lastName': 'Padberg',\n",
    "          'age': 25\n",
    "        },\n",
    "        'students': [{\n",
    "            'firstName': 'Aliyah',\n",
    "            'lastName': 'Schulist',\n",
    "            'age': 18\n",
    "          },\n",
    "          {\n",
    "            'firstName': 'Cleveland',\n",
    "            'lastName': 'Towne',\n",
    "            'age': 28\n",
    "          }, {\n",
    "            'firstName': 'Jan',\n",
    "            'lastName': 'Quitzon',\n",
    "            'age': 18\n",
    "          }, {\n",
    "            'firstName': 'Alaina',\n",
    "            'lastName': 'Runolfsdottir',\n",
    "            'age': 18\n",
    "          },{\n",
    "            'firstName': 'Saul',\n",
    "            'lastName': 'Heathcote',\n",
    "            'age': 20\n",
    "          },\n",
    "          {\n",
    "            'firstName': 'Gerhard',\n",
    "            'lastName': 'Bergstrom',\n",
    "            'age': 23\n",
    "          }\n",
    "        ]\n",
    "      }, {\n",
    "        'teacher': {\n",
    "          'firstName': 'Edwardo',\n",
    "          'lastName': 'Schowalter',\n",
    "          'age': 28\n",
    "        },\n",
    "        'students': [{\n",
    "            'firstName': 'Manley',\n",
    "            'lastName': 'Doyle',\n",
    "            'age': 18\n",
    "          }, {\n",
    "            'firstName': 'Maximilian',\n",
    "            'lastName': 'Gleichner',\n",
    "            'age': 19\n",
    "          }, {\n",
    "            'firstName': 'Sid',\n",
    "            'lastName': 'Rohan',\n",
    "            'age': 30\n",
    "          },\n",
    "          {\n",
    "            'firstName': 'Catalina',\n",
    "            'lastName': 'Hilpert',\n",
    "            'age': 27\n",
    "          }, {\n",
    "            'firstName': 'Gerald',\n",
    "            'lastName': \"O'Keefe\",\n",
    "            'age': 26\n",
    "          }\n",
    "        ]\n",
    "      }]\n",
    "    },\n",
    "    {\n",
    "      'name': 'Fake School 2',\n",
    "      'classRooms': [{\n",
    "          'teacher': {\n",
    "            'firstName': 'Lucas',\n",
    "            'lastName': 'Schroeder',\n",
    "            'age': 29\n",
    "          },\n",
    "          'students': [{\n",
    "              'firstName': 'Giuseppe',\n",
    "              'lastName': 'Hegmann',\n",
    "              'age': 24\n",
    "            },\n",
    "            {\n",
    "              'firstName': 'Jennyfer',\n",
    "              'lastName': 'Hane',\n",
    "              'age': 19\n",
    "            }, {\n",
    "              'firstName': 'Mikayla',\n",
    "              'lastName': 'Braun',\n",
    "              'age': 23\n",
    "            }, {\n",
    "              'firstName': 'Rickie',\n",
    "              'lastName': 'White',\n",
    "              'age': 22\n",
    "            }, {\n",
    "              'firstName': 'Rose',\n",
    "              'lastName': 'Collins',\n",
    "              'age': 30\n",
    "            }\n",
    "          ]\n",
    "        },\n",
    "        {\n",
    "          'teacher': {\n",
    "            'firstName': 'Green',\n",
    "            'lastName': 'Sauer',\n",
    "            'age': 25\n",
    "          },\n",
    "          'students': [{\n",
    "              'firstName': 'Melany',\n",
    "              'lastName': 'Welch',\n",
    "              'age': 25\n",
    "            }, {\n",
    "              'firstName': 'Paxton',\n",
    "              'lastName': 'Corkery',\n",
    "              'age': 22\n",
    "            },\n",
    "            {\n",
    "              'firstName': 'Nellie',\n",
    "              'lastName': 'Hauck',\n",
    "              'age': 26\n",
    "            }, {\n",
    "              'firstName': 'Eunice',\n",
    "              'lastName': 'Hirthe',\n",
    "              'age': 26\n",
    "            }, {\n",
    "              'firstName': 'Aylin',\n",
    "              'lastName': 'Barrows',\n",
    "              'age': 26\n",
    "            }\n",
    "          ]\n",
    "        }\n",
    "      ]\n",
    "    },\n",
    "    {\n",
    "      'name': 'Fake School 3',\n",
    "      'classRooms': [{\n",
    "        'teacher': {\n",
    "          'firstName': 'Nikko',\n",
    "          'lastName': 'Crist',\n",
    "          'age': 42\n",
    "        },\n",
    "        'students': [{\n",
    "            'firstName': 'Christop',\n",
    "            'lastName': 'Hahn',\n",
    "            'age': 26\n",
    "          }, {\n",
    "            'firstName': 'Newell',\n",
    "            'lastName': 'Kemmer',\n",
    "            'age': 27\n",
    "          },\n",
    "          {\n",
    "            'firstName': 'Katheryn',\n",
    "            'lastName': 'Heller',\n",
    "            'age': 26\n",
    "          }, {\n",
    "            'firstName': 'Saul',\n",
    "            'lastName': 'Heathcote',\n",
    "            'age': 20\n",
    "          },\n",
    "          {\n",
    "            'firstName': 'Maudie',\n",
    "            'lastName': 'Haley',\n",
    "            'age': 30\n",
    "          }\n",
    "        ]\n",
    "      }, {\n",
    "        'teacher': {\n",
    "          'firstName': 'Nathanael',\n",
    "          'lastName': 'Hansson',\n",
    "          'age': 50\n",
    "        },\n",
    "        'students': [{\n",
    "            'firstName': 'Jensen',\n",
    "            'lastName': 'Reichel',\n",
    "            'age': 21\n",
    "          }, {\n",
    "            'firstName': 'Lois',\n",
    "            'lastName': 'Kulas',\n",
    "            'age': 28\n",
    "          },\n",
    "          {\n",
    "            'firstName': 'Caterina',\n",
    "            'lastName': 'Wolff',\n",
    "            'age': 28\n",
    "          }, {\n",
    "            'firstName': 'Dahlia',\n",
    "            'lastName': 'Collier',\n",
    "            'age': 24\n",
    "          },\n",
    "          {\n",
    "            'firstName': 'Linwood',\n",
    "            'lastName': 'Langosh',\n",
    "            'age': 26\n",
    "          }\n",
    "        ]\n",
    "      }]\n",
    "    }\n",
    "  ]\n",
    "}"
   ]
  },
  {
   "cell_type": "code",
   "execution_count": 2,
   "metadata": {},
   "outputs": [],
   "source": [
    "# 1 - Add a student with the name of Lucille D. Lozano to Fake School 2, in the first classroom."
   ]
  },
  {
   "cell_type": "code",
   "execution_count": 3,
   "metadata": {},
   "outputs": [
    {
     "data": {
      "text/plain": [
       "dict"
      ]
     },
     "execution_count": 3,
     "metadata": {},
     "output_type": "execute_result"
    }
   ],
   "source": [
    "type(schoolSystem)"
   ]
  },
  {
   "cell_type": "code",
   "execution_count": 4,
   "metadata": {},
   "outputs": [
    {
     "data": {
      "text/plain": [
       "dict_keys(['schools'])"
      ]
     },
     "execution_count": 4,
     "metadata": {},
     "output_type": "execute_result"
    }
   ],
   "source": [
    "schoolSystem.keys()"
   ]
  },
  {
   "cell_type": "code",
   "execution_count": 5,
   "metadata": {},
   "outputs": [
    {
     "data": {
      "text/plain": [
       "list"
      ]
     },
     "execution_count": 5,
     "metadata": {},
     "output_type": "execute_result"
    }
   ],
   "source": [
    "type(schoolSystem[\"schools\"])"
   ]
  },
  {
   "cell_type": "code",
   "execution_count": 6,
   "metadata": {},
   "outputs": [
    {
     "data": {
      "text/plain": [
       "{'name': 'Fake School 2',\n",
       " 'classRooms': [{'teacher': {'firstName': 'Lucas',\n",
       "    'lastName': 'Schroeder',\n",
       "    'age': 29},\n",
       "   'students': [{'firstName': 'Giuseppe', 'lastName': 'Hegmann', 'age': 24},\n",
       "    {'firstName': 'Jennyfer', 'lastName': 'Hane', 'age': 19},\n",
       "    {'firstName': 'Mikayla', 'lastName': 'Braun', 'age': 23},\n",
       "    {'firstName': 'Rickie', 'lastName': 'White', 'age': 22},\n",
       "    {'firstName': 'Rose', 'lastName': 'Collins', 'age': 30}]},\n",
       "  {'teacher': {'firstName': 'Green', 'lastName': 'Sauer', 'age': 25},\n",
       "   'students': [{'firstName': 'Melany', 'lastName': 'Welch', 'age': 25},\n",
       "    {'firstName': 'Paxton', 'lastName': 'Corkery', 'age': 22},\n",
       "    {'firstName': 'Nellie', 'lastName': 'Hauck', 'age': 26},\n",
       "    {'firstName': 'Eunice', 'lastName': 'Hirthe', 'age': 26},\n",
       "    {'firstName': 'Aylin', 'lastName': 'Barrows', 'age': 26}]}]}"
      ]
     },
     "execution_count": 6,
     "metadata": {},
     "output_type": "execute_result"
    }
   ],
   "source": [
    "schoolSystem[\"schools\"][1]"
   ]
  },
  {
   "cell_type": "code",
   "execution_count": 7,
   "metadata": {},
   "outputs": [
    {
     "data": {
      "text/plain": [
       "[{'firstName': 'Giuseppe', 'lastName': 'Hegmann', 'age': 24},\n",
       " {'firstName': 'Jennyfer', 'lastName': 'Hane', 'age': 19},\n",
       " {'firstName': 'Mikayla', 'lastName': 'Braun', 'age': 23},\n",
       " {'firstName': 'Rickie', 'lastName': 'White', 'age': 22},\n",
       " {'firstName': 'Rose', 'lastName': 'Collins', 'age': 30}]"
      ]
     },
     "execution_count": 7,
     "metadata": {},
     "output_type": "execute_result"
    }
   ],
   "source": [
    "schoolSystem[\"schools\"][1][\"classRooms\"][0][\"students\"]"
   ]
  },
  {
   "cell_type": "code",
   "execution_count": 8,
   "metadata": {},
   "outputs": [],
   "source": [
    "new_student={'firstName': 'Lucille', 'lastName': 'D. Lozano'}\n",
    "schoolSystem[\"schools\"][1][\"classRooms\"][0][\"students\"].append(new_student)"
   ]
  },
  {
   "cell_type": "code",
   "execution_count": 9,
   "metadata": {},
   "outputs": [],
   "source": [
    "# 1 - Add a student with the name of Lucille D. Lozano to Fake School 2, in the first classroom.\n",
    "new_student={'firstName': 'Lucille', 'lastName': 'D. Lozano'}\n",
    "for k,v in schoolSystem.items():\n",
    "    for ind,school in enumerate(v):\n",
    "        if school[\"name\"] == 'Fake School 2':\n",
    "            schoolSystem[k][ind][\"classRooms\"][0][\"students\"].append(new_student)        "
   ]
  },
  {
   "cell_type": "code",
   "execution_count": 10,
   "metadata": {},
   "outputs": [],
   "source": [
    "def insert_student(first,last,school_name,classroom):\n",
    "    new_student={'firstName': first, 'lastName': last}\n",
    "    for k,v in schoolSystem.items():\n",
    "        for ind,school in enumerate(v):\n",
    "            if school[\"name\"] == school_name:\n",
    "                schoolSystem[k][ind][\"classRooms\"][classroom-1][\"students\"].append(new_student) "
   ]
  },
  {
   "cell_type": "code",
   "execution_count": 11,
   "metadata": {},
   "outputs": [],
   "source": [
    "insert_student(\"Pepito\", \"Gonzalez\", \"Fake School 2\", 1)"
   ]
  },
  {
   "cell_type": "code",
   "execution_count": 12,
   "metadata": {},
   "outputs": [],
   "source": [
    "# 2 - Retrieve the \"Fake School 3\" object"
   ]
  },
  {
   "cell_type": "code",
   "execution_count": 16,
   "metadata": {},
   "outputs": [
    {
     "data": {
      "text/plain": [
       "{'name': 'Fake School 3',\n",
       " 'classRooms': [{'teacher': {'firstName': 'Nikko',\n",
       "    'lastName': 'Crist',\n",
       "    'age': 42},\n",
       "   'students': [{'firstName': 'Christop', 'lastName': 'Hahn', 'age': 26},\n",
       "    {'firstName': 'Newell', 'lastName': 'Kemmer', 'age': 27},\n",
       "    {'firstName': 'Katheryn', 'lastName': 'Heller', 'age': 26},\n",
       "    {'firstName': 'Saul', 'lastName': 'Heathcote', 'age': 20},\n",
       "    {'firstName': 'Maudie', 'lastName': 'Haley', 'age': 30}]},\n",
       "  {'teacher': {'firstName': 'Nathanael', 'lastName': 'Hansson', 'age': 50},\n",
       "   'students': [{'firstName': 'Jensen', 'lastName': 'Reichel', 'age': 21},\n",
       "    {'firstName': 'Lois', 'lastName': 'Kulas', 'age': 28},\n",
       "    {'firstName': 'Caterina', 'lastName': 'Wolff', 'age': 28},\n",
       "    {'firstName': 'Dahlia', 'lastName': 'Collier', 'age': 24},\n",
       "    {'firstName': 'Linwood', 'lastName': 'Langosh', 'age': 26}]}]}"
      ]
     },
     "execution_count": 16,
     "metadata": {},
     "output_type": "execute_result"
    }
   ],
   "source": [
    "for school in schoolSystem[\"schools\"]:\n",
    "    if school[\"name\"] == 'Fake School 3':\n",
    "        break\n",
    "school"
   ]
  },
  {
   "cell_type": "code",
   "execution_count": null,
   "metadata": {},
   "outputs": [],
   "source": [
    "# 3 - Retrieve the teacher with the first name of \"Nathanael\""
   ]
  },
  {
   "cell_type": "code",
   "execution_count": 27,
   "metadata": {},
   "outputs": [
    {
     "data": {
      "text/plain": [
       "{'firstName': 'Nathanael', 'lastName': 'Hansson', 'age': 50}"
      ]
     },
     "execution_count": 27,
     "metadata": {},
     "output_type": "execute_result"
    }
   ],
   "source": [
    "for school in schoolSystem[\"schools\"]:\n",
    "    for classroom in school[\"classRooms\"]:\n",
    "        if classroom[\"teacher\"][\"firstName\"] == \"Nathanael\":\n",
    "            teacher = classroom[\"teacher\"]\n",
    "            break\n",
    "teacher"
   ]
  },
  {
   "cell_type": "code",
   "execution_count": null,
   "metadata": {},
   "outputs": [],
   "source": [
    "# 4 - Retrieve the student with the first name of \"Saul\""
   ]
  },
  {
   "cell_type": "code",
   "execution_count": 33,
   "metadata": {},
   "outputs": [
    {
     "name": "stdout",
     "output_type": "stream",
     "text": [
      "[{'firstName': 'Saul', 'lastName': 'Heathcote', 'age': 20}, 'Fake School 1', 0]\n",
      "[{'firstName': 'Saul', 'lastName': 'Heathcote', 'age': 20}, 'Fake School 3', 0]\n"
     ]
    }
   ],
   "source": [
    "saul = []\n",
    "for school in schoolSystem[\"schools\"]:\n",
    "    for ind,classroom in enumerate(school[\"classRooms\"]):\n",
    "        for student in classroom[\"students\"]:\n",
    "            if student[\"firstName\"] == \"Saul\":\n",
    "                saul.append([student,school[\"name\"],ind])\n",
    "saul"
   ]
  },
  {
   "cell_type": "code",
   "execution_count": 36,
   "metadata": {},
   "outputs": [
    {
     "data": {
      "text/plain": [
       "20"
      ]
     },
     "execution_count": 36,
     "metadata": {},
     "output_type": "execute_result"
    }
   ],
   "source": [
    "saul[0][0][\"age\"]"
   ]
  }
 ],
 "metadata": {
  "kernelspec": {
   "display_name": "Python 3",
   "language": "python",
   "name": "python3"
  },
  "language_info": {
   "codemirror_mode": {
    "name": "ipython",
    "version": 3
   },
   "file_extension": ".py",
   "mimetype": "text/x-python",
   "name": "python",
   "nbconvert_exporter": "python",
   "pygments_lexer": "ipython3",
   "version": "3.8.2"
  }
 },
 "nbformat": 4,
 "nbformat_minor": 4
}
